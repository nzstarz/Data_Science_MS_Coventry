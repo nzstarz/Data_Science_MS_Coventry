{
 "cells": [
  {
   "cell_type": "code",
   "execution_count": 1,
   "id": "31f60234",
   "metadata": {},
   "outputs": [
    {
     "name": "stdout",
     "output_type": "stream",
     "text": [
      "\n",
      "clap \n",
      "clap clap \n",
      "clap clap clap \n",
      "clap clap clap clap \n"
     ]
    }
   ],
   "source": [
    "for k in range(0,5):\n",
    "    print('clap '*k)"
   ]
  },
  {
   "cell_type": "code",
   "execution_count": 2,
   "id": "5e5b5ef1",
   "metadata": {},
   "outputs": [],
   "source": [
    "a = 'hello'\n",
    "b = [2,3,5,7]"
   ]
  },
  {
   "cell_type": "code",
   "execution_count": 3,
   "id": "5d8fda34",
   "metadata": {},
   "outputs": [
    {
     "name": "stdout",
     "output_type": "stream",
     "text": [
      "hello\n",
      "[2, 3, 5, 7]\n",
      "<class 'list'>\n"
     ]
    }
   ],
   "source": [
    "print(a)\n",
    "print(b)\n",
    "print(type(b))"
   ]
  },
  {
   "cell_type": "markdown",
   "id": "b52ce139",
   "metadata": {},
   "source": [
    "Section 1. Introduction\n",
    "---------------------------------\n",
    "\n",
    "Welcome to my report. This word is *italic*.\n",
    "This word is **bold**.\n",
    "And I can make lists.\n",
    "* milk\n",
    "* chocolate\n",
    "\n",
    "And I can make numbered lists.\n",
    "1. Don't forget the washing.\n",
    "1. Fix the dishwasher.\n"
   ]
  },
  {
   "cell_type": "code",
   "execution_count": 4,
   "id": "f6ad8e0d",
   "metadata": {},
   "outputs": [
    {
     "data": {
      "image/png": "[encoded data removed]",
      "text/plain": [
       "<Figure size 432x288 with 1 Axes>"
      ]
     },
     "metadata": {
      "needs_background": "light"
     },
     "output_type": "display_data"
    }
   ],
   "source": [
    "import matplotlib.pyplot as plt\n",
    "plt.figure()\n",
    "plt.plot([1,2],[3,4],'r-')\n",
    "plt.show()"
   ]
  },
  {
   "cell_type": "markdown",
   "id": "7bd824f8",
   "metadata": {},
   "source": [
    "Notice that the plot above is very boring."
   ]
  },
  {
   "cell_type": "code",
   "execution_count": null,
   "id": "2e37a01a",
   "metadata": {},
   "outputs": [],
   "source": []
  }
 ],
 "metadata": {
  "kernelspec": {
   "display_name": "Python 3 (ipykernel)",
   "language": "python",
   "name": "python3"
  },
  "language_info": {
   "codemirror_mode": {
    "name": "ipython",
    "version": 3
   },
   "file_extension": ".py",
   "mimetype": "text/x-python",
   "name": "python",
   "nbconvert_exporter": "python",
   "pygments_lexer": "ipython3",
   "version": "3.7.9"
  }
 },
 "nbformat": 4,
 "nbformat_minor": 5
}
